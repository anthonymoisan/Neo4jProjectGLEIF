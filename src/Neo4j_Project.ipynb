{
 "cells": [
  {
   "cell_type": "markdown",
   "metadata": {},
   "source": [
    "# Préambule\n",
    "\n",
    "Ce notebook correspond à la base de données Neo4j réalisée dans le cadre du master EBAM 2019 - 2020 par Anthony Moisan et Léonard Péan"
   ]
  },
  {
   "cell_type": "markdown",
   "metadata": {},
   "source": [
    "Prérequis, il est nécessaire :\n",
    "1. de lancer en local un serveur Neo4j, créer une base de données (user par défaut : neo4j et mot de passe : password sinon il faudra adapter le script), de lancer la base de données \n",
    "2. d'installer le plugin APOC via Manage -> Plugins -> APOC"
   ]
  },
  {
   "cell_type": "markdown",
   "metadata": {},
   "source": [
    "# Small Example\n",
    "\n",
    "Petit jeu de données créés à la main pour voir la pertinence des requêtes. Niveau1_Small et Niveau2_Small. Les fichiers CSV doivent être situés dans le fichier d'import de la base de données via Manage -> Open Folders -> Import"
   ]
  },
  {
   "cell_type": "markdown",
   "metadata": {},
   "source": [
    "## Packages\n",
    "\n",
    "Installation des packages nécessaires à l'execution py2neo pour la connexion à Python vers Neo4j et pandas pour la visualisation des résultats à travers des dataframe"
   ]
  },
  {
   "cell_type": "code",
   "execution_count": 7,
   "metadata": {},
   "outputs": [
    {
     "name": "stdout",
     "output_type": "stream",
     "text": [
      "Requirement already satisfied: py2neo in c:\\users\\bigdata\\anaconda3\\lib\\site-packages (4.3.0)\n",
      "Requirement already satisfied: colorama in c:\\users\\bigdata\\anaconda3\\lib\\site-packages (from py2neo) (0.4.1)\n",
      "Requirement already satisfied: prompt-toolkit~=2.0.7 in c:\\users\\bigdata\\anaconda3\\lib\\site-packages (from py2neo) (2.0.9)\n",
      "Requirement already satisfied: neobolt~=1.7.12 in c:\\users\\bigdata\\anaconda3\\lib\\site-packages (from py2neo) (1.7.15)\n",
      "Requirement already satisfied: click==7.0 in c:\\users\\bigdata\\anaconda3\\lib\\site-packages (from py2neo) (7.0)\n",
      "Requirement already satisfied: pygments~=2.3.1 in c:\\users\\bigdata\\anaconda3\\lib\\site-packages (from py2neo) (2.3.1)\n",
      "Requirement already satisfied: neotime~=1.7.4 in c:\\users\\bigdata\\anaconda3\\lib\\site-packages (from py2neo) (1.7.4)\n",
      "Requirement already satisfied: pytz in c:\\users\\bigdata\\anaconda3\\lib\\site-packages (from py2neo) (2019.1)\n",
      "Requirement already satisfied: certifi in c:\\users\\bigdata\\anaconda3\\lib\\site-packages (from py2neo) (2019.6.16)\n",
      "Requirement already satisfied: urllib3<1.25,>=1.23 in c:\\users\\bigdata\\anaconda3\\lib\\site-packages (from py2neo) (1.24.2)\n",
      "Requirement already satisfied: wcwidth in c:\\users\\bigdata\\anaconda3\\lib\\site-packages (from prompt-toolkit~=2.0.7->py2neo) (0.1.7)\n",
      "Requirement already satisfied: six>=1.9.0 in c:\\users\\bigdata\\anaconda3\\lib\\site-packages (from prompt-toolkit~=2.0.7->py2neo) (1.12.0)\n",
      "Requirement already satisfied: pandas in c:\\users\\bigdata\\anaconda3\\lib\\site-packages (0.24.2)\n",
      "Requirement already satisfied: pytz>=2011k in c:\\users\\bigdata\\anaconda3\\lib\\site-packages (from pandas) (2019.1)\n",
      "Requirement already satisfied: numpy>=1.12.0 in c:\\users\\bigdata\\anaconda3\\lib\\site-packages (from pandas) (1.16.4)\n",
      "Requirement already satisfied: python-dateutil>=2.5.0 in c:\\users\\bigdata\\anaconda3\\lib\\site-packages (from pandas) (2.8.0)\n",
      "Requirement already satisfied: six>=1.5 in c:\\users\\bigdata\\anaconda3\\lib\\site-packages (from python-dateutil>=2.5.0->pandas) (1.12.0)\n"
     ]
    }
   ],
   "source": [
    "!pip install py2neo\n",
    "!pip install pandas\n",
    "import pandas as pd"
   ]
  },
  {
   "cell_type": "markdown",
   "metadata": {},
   "source": [
    "## Connexion à la base de données"
   ]
  },
  {
   "cell_type": "code",
   "execution_count": 8,
   "metadata": {},
   "outputs": [],
   "source": [
    "# les trois premiers éléments sont à configurer en fonction de la création en local de la base de données Neo4j\n",
    "from py2neo import Graph\n",
    "myUri = \"http://localhost:7474\"\n",
    "myUser = \"neo4j\"\n",
    "myPassword = \"password\"\n",
    "graph = Graph(myUri, username=myUser, password=myPassword)"
   ]
  },
  {
   "cell_type": "markdown",
   "metadata": {},
   "source": [
    "## Ensemble des procédures pour créer le graphe ou le détruire"
   ]
  },
  {
   "cell_type": "code",
   "execution_count": 9,
   "metadata": {},
   "outputs": [],
   "source": [
    "#Permet de mettre les contraintes d'intégrité et index\n",
    "def DefineConstraintAndIndex(db):\n",
    "    queryInsertConstraintEntityCodeLEI = \"CREATE CONSTRAINT ON (e:Entity) ASSERT e.code_LEI IS UNIQUE;\"\n",
    "    db.run(queryInsertConstraintEntityCodeLEI)\n",
    "    queryInsertIndexCountryName = \"CREATE INDEX ON :Country(name);\"\n",
    "    db.run(queryInsertIndexCountryName)\n",
    "    queryInsertIndexEntiteName = \"CREATE INDEX ON :Entity(name);\"\n",
    "    db.run(queryInsertIndexEntiteName)\n",
    "    queryDropIndexActiveName = \"CREATE INDEX ON :Active(name);\"\n",
    "    db.run(queryDropIndexActiveName)\n"
   ]
  },
  {
   "cell_type": "code",
   "execution_count": 10,
   "metadata": {},
   "outputs": [],
   "source": [
    "#Permet de définir l'import de Niveau 1\n",
    "def DefineImportNiveau1(db,namefile):\n",
    "    queryLevel1 =\"USING PERIODIC COMMIT 500 \" \\\n",
    "    \"LOAD CSV WITH HEADERS FROM 'file:///\"+namefile+\".csv' \" \\\n",
    "    \"AS ligne FIELDTERMINATOR ';' \" \\\n",
    "    \"MERGE (e:Entity {code_LEI: ligne.Code_LEI, name : ligne.Legal_Name, last_update : apoc.date.format(apoc.date.parse(ligne.Last_Update_Date, 'ms', 'yyyy-MM-dd'))}) \"  \\\n",
    "    \"MERGE (act:Active {name:ligne.Status_Actif}) \" \\\n",
    "    \"MERGE (country:Country {name: ligne.Country_Code}) \" \\\n",
    "    \"MERGE (e)-[:ACTIVE]-(act) \" \\\n",
    "    \"MERGE (e)-[:REGISTERED]-(country)\" \n",
    "    db.run(queryLevel1)"
   ]
  },
  {
   "cell_type": "code",
   "execution_count": 11,
   "metadata": {},
   "outputs": [],
   "source": [
    "#Permet de définir l'import de Niveau 2\n",
    "def DefineImportNiveau2(db,namefile):\n",
    "    queryLevel2 =\"USING PERIODIC COMMIT 500 \" \\\n",
    "    \"LOAD CSV WITH HEADERS FROM 'file:///\"+namefile+\".csv' \" \\\n",
    "    \"AS ligne FIELDTERMINATOR ';' \" \\\n",
    "    \"MATCH (startNode:Entity{ code_LEI: ligne.Start_Node}),(endNode:Entity { code_LEI: ligne.End_Node}) \" \\\n",
    "    \"MERGE (startNode)-[:RELATIONSHIP { role: ligne.Relation_ShipeType }]->(endNode)\"\n",
    "    db.run(queryLevel2)"
   ]
  },
  {
   "cell_type": "code",
   "execution_count": 12,
   "metadata": {},
   "outputs": [],
   "source": [
    "#1) On créer les contraintes et index\n",
    "DefineConstraintAndIndex(graph)\n",
    "#2) On réalise l'import de niveau 1 pour initialiser une partie du graphe\n",
    "DefineImportNiveau1(graph,'Niveau1_Small')\n",
    "#3) On réalise l'import de niveau 2 pour mettre les relations entre les entités juridiques\n",
    "DefineImportNiveau2(graph,'Niveau2_Small')"
   ]
  },
  {
   "cell_type": "markdown",
   "metadata": {},
   "source": [
    "![schema_entite](../img/CasJouetEntite.png)"
   ]
  },
  {
   "cell_type": "markdown",
   "metadata": {},
   "source": [
    "On a créé fictivement à travers ce petit jeu de données deux holding (SMA et AXA). Le graph avec les noms n'apparait pas explicitement mais peut être vue à travers l'éditeur Neo4j. La profondeur d'Axa est plus important dans notre cas jouet."
   ]
  },
  {
   "cell_type": "markdown",
   "metadata": {},
   "source": [
    "![active](../img/ActiveCasJouet.png)"
   ]
  },
  {
   "cell_type": "markdown",
   "metadata": {},
   "source": [
    "Un autre étiquette en plus des entités est le fait que la filiale est active ou non car la base de données enregistre dans le temps les schémas de consolidation et que la vie des entreprises est faite d'acquisitions et de cessions. Dans notre cas jouet, 4 entités sont considérées comme inactive."
   ]
  },
  {
   "cell_type": "markdown",
   "metadata": {},
   "source": [
    "![pays](../img/PaysCasJouet.png)"
   ]
  },
  {
   "cell_type": "markdown",
   "metadata": {},
   "source": [
    "La notion de pays associé à une entité a aussi été insérée comme étiquette. Dans notre cas jouet, nous avons 5 pays où les entités juridiques sont enregistrées. "
   ]
  },
  {
   "cell_type": "code",
   "execution_count": 13,
   "metadata": {},
   "outputs": [],
   "source": [
    "#Permet de supprimer l'ensemble des noeuds et des relations \n",
    "def Armageddon(db):\n",
    "    queryDeleteNodesAndRelations = \"MATCH (n) OPTIONAL MATCH (n)-[r]-() DELETE n,r\"\n",
    "    db.run(queryDeleteNodesAndRelations)    "
   ]
  },
  {
   "cell_type": "code",
   "execution_count": 14,
   "metadata": {},
   "outputs": [],
   "source": [
    "#Permet de supprimer les contraintes d'intégrité et les index\n",
    "def DropConstraintAndIndex(db):\n",
    "    queryDropIndexCountryName = \"DROP INDEX ON :Country(name);\"\n",
    "    db.run(queryDropIndexCountryName)\n",
    "    queryDropIndexEntiteName = \"DROP INDEX ON :Entity(name);\"\n",
    "    db.run(queryDropIndexEntiteName)\n",
    "    queryDropIndexActiveName = \"DROP INDEX ON :Active(name);\"\n",
    "    db.run(queryDropIndexActiveName)\n",
    "    queryDropConstraintEntityCodeLEI = \"DROP CONSTRAINT ON (e:Entity) ASSERT e.code_LEI IS UNIQUE;\"\n",
    "    db.run(queryDropConstraintEntityCodeLEI)"
   ]
  },
  {
   "cell_type": "markdown",
   "metadata": {},
   "source": [
    "## Ensemble des requêtes"
   ]
  },
  {
   "cell_type": "markdown",
   "metadata": {},
   "source": [
    "### Nombre de noeuds et relations"
   ]
  },
  {
   "cell_type": "code",
   "execution_count": 40,
   "metadata": {},
   "outputs": [],
   "source": [
    "def VisualizeGraph(db) :\n",
    "    qCountEntityActive = \"MATCH (e:Entity)-[:ACTIVE]-(act) \" \\\n",
    "            \"WHERE act.name = 'ACTIVE' \" \\\n",
    "            \"RETURN count(e) \"\n",
    "    numberOfActiveEntity = db.run(qCountEntityActive).evaluate()\n",
    "    \n",
    "    qCountEntity = \"MATCH (e:Entity) \" \\\n",
    "                \"RETURN count(e) \"\n",
    "    numberOfEntity = db.run(qCountEntity).evaluate()\n",
    "    \n",
    "    qCountCountry = \"MATCH (c:Country) \" \\\n",
    "                \"RETURN count(c) \"\n",
    "    numberOfCountry = db.run(qCountCountry).evaluate()\n",
    "    \n",
    "    qCountActive = \"MATCH (a:Active) \" \\\n",
    "                \"RETURN count(a) \"\n",
    "    numberOfActive = db.run(qCountActive).evaluate()\n",
    "    \n",
    "    \n",
    "    qRelationShip =\"MATCH p=()-[r:RELATIONSHIP]->() RETURN count(p)\"\n",
    "    numberOfRelationShip = db.run(qRelationShip).evaluate()\n",
    "    \n",
    "    qRelationActive =\"MATCH p=()-[r:ACTIVE]->() RETURN count(p)\"\n",
    "    numberOfRelationActive = db.run(qRelationActive).evaluate()\n",
    "    \n",
    "    qRelationRegistered =\"MATCH p=()-[r:REGISTERED]->() RETURN count(p)\"\n",
    "    numberOfRelationRegistered = db.run(qRelationRegistered).evaluate()\n",
    "    \n",
    "    print(\"--- About Nodes \")\n",
    "    print(\"* Number of active entity  : \" + str(numberOfActiveEntity))\n",
    "    print(\"* Number of total entity  : \" + str(numberOfEntity))\n",
    "    print(\"* % of active entity : \" + str(round(numberOfActiveEntity/numberOfEntity*100,2)))\n",
    "    print(\"* Number of country  : \" + str(numberOfCountry))\n",
    "    print(\"* Number of active  : \" + str(numberOfActive))\n",
    "    \n",
    "    print(\"\\n--- About Relations \")\n",
    "    print(\"* Number of relationship between Entities : \" + str(numberOfRelationShip))\n",
    "    print(\"* Number of relationship between Entitie/Active : \" + str(numberOfRelationActive))\n",
    "    print(\"* Number of relationship between Entitie/Country : \" + str(numberOfRelationRegistered))\n",
    "    "
   ]
  },
  {
   "cell_type": "code",
   "execution_count": 36,
   "metadata": {},
   "outputs": [
    {
     "name": "stdout",
     "output_type": "stream",
     "text": [
      "--- About Nodes \n",
      "* Number of active entity  : 73332\n",
      "* Number of total entity  : 67187\n",
      "* % of active entity : 91.62\n",
      "* Number of country  : 17\n",
      "* Number of active  : 2\n",
      "\n",
      "--- About Relations \n",
      "* Number of relationship between Entities : 11259\n",
      "* Number of relationship between Entitie/Active : 73332\n",
      "* Number of relationship between Entitie/Country : 73332\n"
     ]
    }
   ],
   "source": [
    "VisualizeGraph(graph)"
   ]
  },
  {
   "cell_type": "markdown",
   "metadata": {},
   "source": [
    "On retrouve bien dans notre cas jouet :\n",
    "* 17 noeuds : 10 pour les entités, 5 pour les pays, 2 pour le caractère actif ou inactif\n",
    "* 28 relation : 8 de liens entre les entités, 10 pour le caractère actif et 10 pour la domiciliation"
   ]
  },
  {
   "cell_type": "markdown",
   "metadata": {},
   "source": [
    "### Nombre d'entités légales par pays par ordre croissant"
   ]
  },
  {
   "cell_type": "markdown",
   "metadata": {},
   "source": [
    "#### 1ère requête sans prise en compte du caractère active ou non de l'entité"
   ]
  },
  {
   "cell_type": "code",
   "execution_count": 17,
   "metadata": {},
   "outputs": [],
   "source": [
    "def EntityPerCountry(db) :\n",
    "    query = \"MATCH (c:Country)-[:REGISTERED]-(e:Entity) \" \\\n",
    "    \"RETURN distinct(c.name) as Country, count(e) as Number ORDER BY Number DESC\"\n",
    "    return pd.DataFrame(db.run(query).data())"
   ]
  },
  {
   "cell_type": "code",
   "execution_count": 18,
   "metadata": {},
   "outputs": [
    {
     "data": {
      "text/html": [
       "<div>\n",
       "<style scoped>\n",
       "    .dataframe tbody tr th:only-of-type {\n",
       "        vertical-align: middle;\n",
       "    }\n",
       "\n",
       "    .dataframe tbody tr th {\n",
       "        vertical-align: top;\n",
       "    }\n",
       "\n",
       "    .dataframe thead th {\n",
       "        text-align: right;\n",
       "    }\n",
       "</style>\n",
       "<table border=\"1\" class=\"dataframe\">\n",
       "  <thead>\n",
       "    <tr style=\"text-align: right;\">\n",
       "      <th></th>\n",
       "      <th>Country</th>\n",
       "      <th>Number</th>\n",
       "    </tr>\n",
       "  </thead>\n",
       "  <tbody>\n",
       "    <tr>\n",
       "      <th>0</th>\n",
       "      <td>FR</td>\n",
       "      <td>6</td>\n",
       "    </tr>\n",
       "    <tr>\n",
       "      <th>1</th>\n",
       "      <td>IT</td>\n",
       "      <td>1</td>\n",
       "    </tr>\n",
       "    <tr>\n",
       "      <th>2</th>\n",
       "      <td>ES</td>\n",
       "      <td>1</td>\n",
       "    </tr>\n",
       "    <tr>\n",
       "      <th>3</th>\n",
       "      <td>LU</td>\n",
       "      <td>1</td>\n",
       "    </tr>\n",
       "    <tr>\n",
       "      <th>4</th>\n",
       "      <td>BS</td>\n",
       "      <td>1</td>\n",
       "    </tr>\n",
       "  </tbody>\n",
       "</table>\n",
       "</div>"
      ],
      "text/plain": [
       "  Country  Number\n",
       "0      FR       6\n",
       "1      IT       1\n",
       "2      ES       1\n",
       "3      LU       1\n",
       "4      BS       1"
      ]
     },
     "execution_count": 18,
     "metadata": {},
     "output_type": "execute_result"
    }
   ],
   "source": [
    "EntityPerCountry(graph)"
   ]
  },
  {
   "cell_type": "markdown",
   "metadata": {},
   "source": [
    "Cela correspond aux nationalités des entités fournies dans le cas jouet"
   ]
  },
  {
   "cell_type": "markdown",
   "metadata": {},
   "source": [
    "#### 2ème requête avec prise en compte du caractère active ou non de la filiale\n"
   ]
  },
  {
   "cell_type": "code",
   "execution_count": 19,
   "metadata": {},
   "outputs": [],
   "source": [
    "def EntityPerCountryActive(db) :\n",
    "    query = \"MATCH (c:Country)-[:REGISTERED]-(e:Entity)-[:ACTIVE]-(act) \" \\\n",
    "    \"WHERE act.name = 'ACTIVE' \" \\\n",
    "    \"RETURN distinct(c.name) as Country, count(e) as Number ORDER BY Number DESC\"\n",
    "    return pd.DataFrame(db.run(query).data())"
   ]
  },
  {
   "cell_type": "code",
   "execution_count": 20,
   "metadata": {},
   "outputs": [
    {
     "data": {
      "text/html": [
       "<div>\n",
       "<style scoped>\n",
       "    .dataframe tbody tr th:only-of-type {\n",
       "        vertical-align: middle;\n",
       "    }\n",
       "\n",
       "    .dataframe tbody tr th {\n",
       "        vertical-align: top;\n",
       "    }\n",
       "\n",
       "    .dataframe thead th {\n",
       "        text-align: right;\n",
       "    }\n",
       "</style>\n",
       "<table border=\"1\" class=\"dataframe\">\n",
       "  <thead>\n",
       "    <tr style=\"text-align: right;\">\n",
       "      <th></th>\n",
       "      <th>Country</th>\n",
       "      <th>Number</th>\n",
       "    </tr>\n",
       "  </thead>\n",
       "  <tbody>\n",
       "    <tr>\n",
       "      <th>0</th>\n",
       "      <td>FR</td>\n",
       "      <td>3</td>\n",
       "    </tr>\n",
       "    <tr>\n",
       "      <th>1</th>\n",
       "      <td>IT</td>\n",
       "      <td>1</td>\n",
       "    </tr>\n",
       "    <tr>\n",
       "      <th>2</th>\n",
       "      <td>ES</td>\n",
       "      <td>1</td>\n",
       "    </tr>\n",
       "    <tr>\n",
       "      <th>3</th>\n",
       "      <td>LU</td>\n",
       "      <td>1</td>\n",
       "    </tr>\n",
       "  </tbody>\n",
       "</table>\n",
       "</div>"
      ],
      "text/plain": [
       "  Country  Number\n",
       "0      FR       3\n",
       "1      IT       1\n",
       "2      ES       1\n",
       "3      LU       1"
      ]
     },
     "execution_count": 20,
     "metadata": {},
     "output_type": "execute_result"
    }
   ],
   "source": [
    "EntityPerCountryActive(graph)"
   ]
  },
  {
   "cell_type": "markdown",
   "metadata": {},
   "source": [
    "Cela correspond aux nationalités des entités actives dans le cas jouet."
   ]
  },
  {
   "cell_type": "markdown",
   "metadata": {},
   "source": [
    "### Schema consolidation AXA"
   ]
  },
  {
   "cell_type": "markdown",
   "metadata": {},
   "source": [
    "#### 1ère requête sans prise en compte du caractère active ou non de la filiale\n",
    "\n",
    "On cherche à partir d'une société à avoir toutes les filiales qui en dépendent"
   ]
  },
  {
   "cell_type": "code",
   "execution_count": 21,
   "metadata": {},
   "outputs": [],
   "source": [
    "def SchemaConsolidationAxa(db,society) :\n",
    "    query = \"MATCH (e:Entity {name:\"+society+\"}), \" \\\n",
    "    \"path = (e)-[:RELATIONSHIP*]-(subsdiary:Entity) \" \\\n",
    "    \"return extract(x IN nodes(path) | x.name) as Nodes,length(path) as Depth ORDER BY Depth ASC\"\n",
    "    return pd.DataFrame(db.run(query).data())\n"
   ]
  },
  {
   "cell_type": "code",
   "execution_count": 22,
   "metadata": {},
   "outputs": [
    {
     "data": {
      "text/html": [
       "<div>\n",
       "<style scoped>\n",
       "    .dataframe tbody tr th:only-of-type {\n",
       "        vertical-align: middle;\n",
       "    }\n",
       "\n",
       "    .dataframe tbody tr th {\n",
       "        vertical-align: top;\n",
       "    }\n",
       "\n",
       "    .dataframe thead th {\n",
       "        text-align: right;\n",
       "    }\n",
       "</style>\n",
       "<table border=\"1\" class=\"dataframe\">\n",
       "  <thead>\n",
       "    <tr style=\"text-align: right;\">\n",
       "      <th></th>\n",
       "      <th>Depth</th>\n",
       "      <th>Nodes</th>\n",
       "    </tr>\n",
       "  </thead>\n",
       "  <tbody>\n",
       "    <tr>\n",
       "      <th>0</th>\n",
       "      <td>1</td>\n",
       "      <td>[AXA, AXA_VIE]</td>\n",
       "    </tr>\n",
       "    <tr>\n",
       "      <th>1</th>\n",
       "      <td>1</td>\n",
       "      <td>[AXA, AXA_IARD]</td>\n",
       "    </tr>\n",
       "    <tr>\n",
       "      <th>2</th>\n",
       "      <td>2</td>\n",
       "      <td>[AXA, AXA_IARD, AXA_PICARD]</td>\n",
       "    </tr>\n",
       "    <tr>\n",
       "      <th>3</th>\n",
       "      <td>2</td>\n",
       "      <td>[AXA, AXA_IARD, AXA_Finance]</td>\n",
       "    </tr>\n",
       "    <tr>\n",
       "      <th>4</th>\n",
       "      <td>3</td>\n",
       "      <td>[AXA, AXA_IARD, AXA_PICARD, AXA_PICARD_OUEST]</td>\n",
       "    </tr>\n",
       "    <tr>\n",
       "      <th>5</th>\n",
       "      <td>3</td>\n",
       "      <td>[AXA, AXA_IARD, AXA_PICARD, AXA_PICARD_SUD]</td>\n",
       "    </tr>\n",
       "  </tbody>\n",
       "</table>\n",
       "</div>"
      ],
      "text/plain": [
       "   Depth                                          Nodes\n",
       "0      1                                 [AXA, AXA_VIE]\n",
       "1      1                                [AXA, AXA_IARD]\n",
       "2      2                    [AXA, AXA_IARD, AXA_PICARD]\n",
       "3      2                   [AXA, AXA_IARD, AXA_Finance]\n",
       "4      3  [AXA, AXA_IARD, AXA_PICARD, AXA_PICARD_OUEST]\n",
       "5      3    [AXA, AXA_IARD, AXA_PICARD, AXA_PICARD_SUD]"
      ]
     },
     "execution_count": 22,
     "metadata": {},
     "output_type": "execute_result"
    }
   ],
   "source": [
    "SchemaConsolidationAxa(graph, \"'AXA'\")"
   ]
  },
  {
   "cell_type": "markdown",
   "metadata": {},
   "source": [
    "Schéma cohérent avec Axa en prenant en compte dans le cas présent les filiales inactives"
   ]
  },
  {
   "cell_type": "markdown",
   "metadata": {},
   "source": [
    "#### 2ème requête en prenant le caractère active des filiales"
   ]
  },
  {
   "cell_type": "code",
   "execution_count": 23,
   "metadata": {},
   "outputs": [],
   "source": [
    "def SchemaConsolidationWithActiveSubsidiary(db, society) :\n",
    "    query = \"MATCH (e:Entity {name:\" + society + \"}), \" \\\n",
    "    \"path = (e)-[:RELATIONSHIP*]-(subsidiary:Entity)-[:ACTIVE]-(act {name:'ACTIVE'}) \" \\\n",
    "    \"RETURN extract(x IN nodes(path) WHERE x.name <> 'ACTIVE' | x.name) as Nodes,length(path) as Depth ORDER BY Depth ASC\"\n",
    "    return pd.DataFrame(db.run(query).data())"
   ]
  },
  {
   "cell_type": "code",
   "execution_count": 24,
   "metadata": {},
   "outputs": [
    {
     "data": {
      "text/html": [
       "<div>\n",
       "<style scoped>\n",
       "    .dataframe tbody tr th:only-of-type {\n",
       "        vertical-align: middle;\n",
       "    }\n",
       "\n",
       "    .dataframe tbody tr th {\n",
       "        vertical-align: top;\n",
       "    }\n",
       "\n",
       "    .dataframe thead th {\n",
       "        text-align: right;\n",
       "    }\n",
       "</style>\n",
       "<table border=\"1\" class=\"dataframe\">\n",
       "  <thead>\n",
       "    <tr style=\"text-align: right;\">\n",
       "      <th></th>\n",
       "      <th>Depth</th>\n",
       "      <th>Nodes</th>\n",
       "    </tr>\n",
       "  </thead>\n",
       "  <tbody>\n",
       "    <tr>\n",
       "      <th>0</th>\n",
       "      <td>2</td>\n",
       "      <td>[AXA, AXA_VIE]</td>\n",
       "    </tr>\n",
       "    <tr>\n",
       "      <th>1</th>\n",
       "      <td>2</td>\n",
       "      <td>[AXA, AXA_IARD]</td>\n",
       "    </tr>\n",
       "    <tr>\n",
       "      <th>2</th>\n",
       "      <td>3</td>\n",
       "      <td>[AXA, AXA_IARD, AXA_Finance]</td>\n",
       "    </tr>\n",
       "  </tbody>\n",
       "</table>\n",
       "</div>"
      ],
      "text/plain": [
       "   Depth                         Nodes\n",
       "0      2                [AXA, AXA_VIE]\n",
       "1      2               [AXA, AXA_IARD]\n",
       "2      3  [AXA, AXA_IARD, AXA_Finance]"
      ]
     },
     "execution_count": 24,
     "metadata": {},
     "output_type": "execute_result"
    }
   ],
   "source": [
    "SchemaConsolidationWithActiveSubsidiary(graph, \"'AXA'\")"
   ]
  },
  {
   "cell_type": "markdown",
   "metadata": {},
   "source": [
    "Schéma cohérent avec les filiales actives d'Axa. Toutes les filiales dépendant de AXA_PICARD ne sont plus visibles car inactives"
   ]
  },
  {
   "cell_type": "markdown",
   "metadata": {},
   "source": [
    "### Calcul de profondeur entre société mère et filiales"
   ]
  },
  {
   "cell_type": "code",
   "execution_count": 25,
   "metadata": {},
   "outputs": [],
   "source": [
    "#Permet de savoir si une société est la société mère (elle n'a pas de relations où elle est le noeud de sortie dans une relation de filiation avec d'autres entités juridiques)\n",
    "#On ajoute un champ au noeud entité IsParent\n",
    "def DefineHolding(db) :\n",
    "    queryIsParentFalse = \"MATCH (e:Entity)<-[RELATIONSHIP]-() \" \\\n",
    "    \"SET e.isParent = FALSE \" \\\n",
    "    \"RETURN e\"\n",
    "    db.run(queryIsParentFalse)\n",
    "    \n",
    "    queryIsParentTrue = \"MATCH (e:Entity) \" \\\n",
    "    \"WHERE not exists(e.isParent) \" \\\n",
    "    \"SET e.isParent = TRUE \" \\\n",
    "    \"return e\"\n",
    "    db.run(queryIsParentTrue)"
   ]
  },
  {
   "cell_type": "code",
   "execution_count": 26,
   "metadata": {},
   "outputs": [],
   "source": [
    "DefineHolding(graph)"
   ]
  },
  {
   "cell_type": "code",
   "execution_count": 27,
   "metadata": {},
   "outputs": [],
   "source": [
    "#Permet de calculer la profondeur entre les sociétés mères d'un pays et ses filiales\n",
    "def CalculateHoldingSubsidiaryPerCountry(db, nameCountry):\n",
    "    query = \"MATCH (c:Country {name:\"+nameCountry+\"})-[:REGISTERED]-(e:Entity {isParent:TRUE})-[:ACTIVE]-(act{name:'ACTIVE'}), \" \\\n",
    "    \"path = (e)-[:RELATIONSHIP*]-(subsidiary:Entity)-[:ACTIVE]-(act{name:'ACTIVE'}) \" \\\n",
    "    \"return e.name as Holding, subsidiary.name as Subsidiary, length(path) as Depth ORDER BY Depth DESC \"\n",
    "    return pd.DataFrame(db.run(query).data())"
   ]
  },
  {
   "cell_type": "code",
   "execution_count": 28,
   "metadata": {},
   "outputs": [
    {
     "data": {
      "text/html": [
       "<div>\n",
       "<style scoped>\n",
       "    .dataframe tbody tr th:only-of-type {\n",
       "        vertical-align: middle;\n",
       "    }\n",
       "\n",
       "    .dataframe tbody tr th {\n",
       "        vertical-align: top;\n",
       "    }\n",
       "\n",
       "    .dataframe thead th {\n",
       "        text-align: right;\n",
       "    }\n",
       "</style>\n",
       "<table border=\"1\" class=\"dataframe\">\n",
       "  <thead>\n",
       "    <tr style=\"text-align: right;\">\n",
       "      <th></th>\n",
       "      <th>Depth</th>\n",
       "      <th>Holding</th>\n",
       "      <th>Subsidiary</th>\n",
       "    </tr>\n",
       "  </thead>\n",
       "  <tbody>\n",
       "    <tr>\n",
       "      <th>0</th>\n",
       "      <td>3</td>\n",
       "      <td>AXA</td>\n",
       "      <td>AXA_Finance</td>\n",
       "    </tr>\n",
       "    <tr>\n",
       "      <th>1</th>\n",
       "      <td>2</td>\n",
       "      <td>AXA</td>\n",
       "      <td>AXA_VIE</td>\n",
       "    </tr>\n",
       "    <tr>\n",
       "      <th>2</th>\n",
       "      <td>2</td>\n",
       "      <td>AXA</td>\n",
       "      <td>AXA_IARD</td>\n",
       "    </tr>\n",
       "    <tr>\n",
       "      <th>3</th>\n",
       "      <td>2</td>\n",
       "      <td>SMA</td>\n",
       "      <td>MUTUA_ESPAGNA</td>\n",
       "    </tr>\n",
       "  </tbody>\n",
       "</table>\n",
       "</div>"
      ],
      "text/plain": [
       "   Depth Holding     Subsidiary\n",
       "0      3     AXA    AXA_Finance\n",
       "1      2     AXA        AXA_VIE\n",
       "2      2     AXA       AXA_IARD\n",
       "3      2     SMA  MUTUA_ESPAGNA"
      ]
     },
     "execution_count": 28,
     "metadata": {},
     "output_type": "execute_result"
    }
   ],
   "source": [
    "CalculateHoldingSubsidiaryPerCountry(graph, \"'FR'\")"
   ]
  },
  {
   "cell_type": "markdown",
   "metadata": {},
   "source": [
    "Les résultats correspondent aux filiales uniquement actives d'Axa et de SMA pour les entités enregistrées en France."
   ]
  },
  {
   "cell_type": "markdown",
   "metadata": {},
   "source": [
    "### Identification de l'évasion fiscale potentielle"
   ]
  },
  {
   "cell_type": "code",
   "execution_count": 29,
   "metadata": {},
   "outputs": [],
   "source": [
    "#Permet de voir les sociétés mères d'un pays qui ont des filiales actives dans des paradis fiscaux (listCountrySuspect)\n",
    "def IdentifySuspectSubsidiaries(db,nameCountry, listCountrySuspect):\n",
    "    query = \"MATCH (c:Country {name:\"+nameCountry+\"})-[:REGISTERED]-(e:Entity {isParent:TRUE})-[:ACTIVE]-(act{name:'ACTIVE'}), \" \\\n",
    "    \"path = (e)-[:RELATIONSHIP*]-(subsidiary:Entity)-[:REGISTERED]-(cSubsidiary:Country) WHERE cSubsidiary.name in \"+listCountrySuspect+ \"AND (subsidiary:Entity)-[:ACTIVE]-(act{name:'ACTIVE'})\" \\\n",
    "    \"return e.name as Entity, subsidiary.name as Subsidiary, length(path) as Depth\"\n",
    "    return pd.DataFrame(db.run(query).data())"
   ]
  },
  {
   "cell_type": "code",
   "execution_count": 30,
   "metadata": {},
   "outputs": [
    {
     "data": {
      "text/html": [
       "<div>\n",
       "<style scoped>\n",
       "    .dataframe tbody tr th:only-of-type {\n",
       "        vertical-align: middle;\n",
       "    }\n",
       "\n",
       "    .dataframe tbody tr th {\n",
       "        vertical-align: top;\n",
       "    }\n",
       "\n",
       "    .dataframe thead th {\n",
       "        text-align: right;\n",
       "    }\n",
       "</style>\n",
       "<table border=\"1\" class=\"dataframe\">\n",
       "  <thead>\n",
       "    <tr style=\"text-align: right;\">\n",
       "      <th></th>\n",
       "      <th>Depth</th>\n",
       "      <th>Entity</th>\n",
       "      <th>Subsidiary</th>\n",
       "    </tr>\n",
       "  </thead>\n",
       "  <tbody>\n",
       "    <tr>\n",
       "      <th>0</th>\n",
       "      <td>3</td>\n",
       "      <td>AXA</td>\n",
       "      <td>AXA_Finance</td>\n",
       "    </tr>\n",
       "  </tbody>\n",
       "</table>\n",
       "</div>"
      ],
      "text/plain": [
       "   Depth Entity   Subsidiary\n",
       "0      3    AXA  AXA_Finance"
      ]
     },
     "execution_count": 30,
     "metadata": {},
     "output_type": "execute_result"
    }
   ],
   "source": [
    "listCountrySuspect = \"['LU', 'BS']\" #permet d'identifier le luxembourg et Les iles Bahamas\n",
    "IdentifySuspectSubsidiaries(graph,\"'FR'\", listCountrySuspect )"
   ]
  },
  {
   "cell_type": "markdown",
   "metadata": {},
   "source": [
    "L'administration fiscale peut rechercher les filiales actives dépedant d'une holding française qui sont dans des paradis fiscaux identifiés dans le cas présent par une domiciliation au Luxembourg et au Bahamas. Dans le cas présent, le résultat est cohérent car il ne fait pas apparaître la filiale non active dans les Bahamas associée à l'entité SMA et on retrouve AXA_Finance qui est domicilié au luxembourg "
   ]
  },
  {
   "cell_type": "markdown",
   "metadata": {},
   "source": [
    "## Destruction du graph"
   ]
  },
  {
   "cell_type": "code",
   "execution_count": 31,
   "metadata": {},
   "outputs": [],
   "source": [
    "Armageddon(graph)\n",
    "DropConstraintAndIndex(graph)"
   ]
  },
  {
   "cell_type": "markdown",
   "metadata": {},
   "source": [
    "# Jeu de données réelles\n",
    "Les jeux de données réelles sont basées sur la transformation XML des données accessibles en Open Data sur le site https://www.gleif.org via un CSV. Le code Python permet de faire la conversion se trouve aussi dans un autre projet Python dans SRC"
   ]
  },
  {
   "cell_type": "markdown",
   "metadata": {},
   "source": [
    "## Transformation des données"
   ]
  },
  {
   "cell_type": "markdown",
   "metadata": {},
   "source": [
    "Un convertisseur XML vers CSV a été réalisé dans le cadre de ce projet avec deux fonctions pour convertir :\n",
    "* les fichiers de niveau 1\n",
    "* les fichiers de niveau 2"
   ]
  },
  {
   "cell_type": "markdown",
   "metadata": {},
   "source": [
    "**Attention :** il est nécessaire de télécharger les fichiers XML du gleif [télécharger](https://www.gleif.org/fr/lei-data/gleif-concatenated-file/download-the-concatenated-file) dans le répertoire xml de l'arborescence projet. Il n'était pas possible de les mettre sous Github du fait de la volumétrie. \n",
    "\n",
    "Nous avons renommé par commodité le fichier en niveau1.xml et en niveau2.xml après les avoir dezippé dans le répertoire xml.\n",
    "\n",
    "Nous avons mis le résultat de la conversion sur la base GLEIF de l'insee dans data. Aussi, vous pouvez passer cette étape de conversion des données en allant directement à l'étape de création du Graph."
   ]
  },
  {
   "cell_type": "code",
   "execution_count": null,
   "metadata": {},
   "outputs": [],
   "source": [
    "from utils.ConvertGLEIF import ConvertFichierNiveau1\n",
    "from utils.ConvertGLEIF import ConvertFichierNiveau2"
   ]
  },
  {
   "cell_type": "code",
   "execution_count": null,
   "metadata": {},
   "outputs": [],
   "source": [
    "#Permet de convertir le fichier XML de niveau 1 et récupère le dictionnaire des codes LEI pour cohérence avec fichier niveau 2\n",
    "dictCodeLEI = ConvertFichierNiveau1(\"../xml/niveau1.xml\",\"../data/Niveau1_Real.csv\")\n",
    "#Permet de convertir le fichier XML de niveau 2 en s'assurant que les données correspondent au code LEI du fichier de niveau 1\n",
    "ConvertFichierNiveau2(\"../xml/niveau2.xml\",\"../data/Niveau2_Real.csv\", dictCodeLEI)"
   ]
  },
  {
   "cell_type": "markdown",
   "metadata": {},
   "source": [
    "## Creation du graph"
   ]
  },
  {
   "cell_type": "markdown",
   "metadata": {},
   "source": [
    "### Modification de la requete de creation des entités"
   ]
  },
  {
   "cell_type": "markdown",
   "metadata": {},
   "source": [
    "Mon script d'import des entités sur un jeu de données de plus de 70000 lignes mettait 15 mn ce qui me paraissait vraiment trop long.\n",
    "\n",
    "Mon script initial était le suivant :\n",
    "\n",
    "> script initial\n",
    "\n",
    "`\n",
    "USING PERIODIC COMMIT 500 \n",
    "\n",
    "LOAD CSV WITH HEADERS FROM 'file:///Niveau1_Real.csv' \n",
    "AS ligne FIELDTERMINATOR ';' \n",
    "\n",
    "   MERGE (e:Entity {code_LEI: ligne.Code_LEI})\n",
    "   SET e.name = ligne.Legal_Name\n",
    "   SET e.last_update = apoc.date.format(apoc.date.parse(ligne.Last_Update_Date, 'ms', 'dd/MM/yyyy'))\n",
    "\n",
    "   MERGE (act:Active {name:ligne.Status_Actif})\n",
    "\n",
    "   MERGE (country:Country {name: ligne.Country_Code})\n",
    "\n",
    "MERGE (e)-[:ACTIVE]-(act) \n",
    "\n",
    "MERGE (e)-[:REGISTERED]-(country)\n",
    "`\n",
    "\n",
    "> script modifié\n",
    "\n",
    "`\n",
    "USING PERIODIC COMMIT 500 \n",
    "\n",
    "LOAD CSV WITH HEADERS FROM 'file:///Niveau1_Real.csv' \n",
    "AS ligne FIELDTERMINATOR ';' \n",
    "\n",
    "   MERGE (e:Entity {code_LEI: ligne.Code_LEI, name : ligne.Legal_Name, last_update : apoc.date.format(apoc.date.parse(ligne.Last_Update_Date, 'ms', 'dd/MM/yyyy'))})\n",
    "\n",
    "   MERGE (act:Active {name:ligne.Status_Actif})\n",
    "\n",
    "   MERGE (country:Country {name: ligne.Country_Code})\n",
    "\n",
    "MERGE (e)-[:ACTIVE]-(act) \n",
    "\n",
    "MERGE (e)-[:REGISTERED]-(country)\n",
    "`\n",
    "\n",
    "Le temps est de l'ordre de quelques secondes. Nous avons ne pas comprendre le comportement différent entre les deux scripts"
   ]
  },
  {
   "cell_type": "code",
   "execution_count": 32,
   "metadata": {},
   "outputs": [
    {
     "name": "stdout",
     "output_type": "stream",
     "text": [
      "Temps pour la création du graphe 9.827404\n"
     ]
    }
   ],
   "source": [
    "import time\n",
    "startTime = time.time()\n",
    "#1) On créer les contraintes et index\n",
    "DefineConstraintAndIndex(graph)\n",
    "#2) On réalise l'import de niveau 1 pour initialiser une partie du graphe\n",
    "DefineImportNiveau1(graph,'Niveau1_Real')\n",
    "#3) On réalise l'import de niveau 2 pour mettre les relations entre les entités juridiques\n",
    "DefineImportNiveau2(graph,'Niveau2_Real')\n",
    "endTime = time.time()\n",
    "print (\"Temps pour la création du graphe %f\" %(endTime-startTime))"
   ]
  },
  {
   "cell_type": "markdown",
   "metadata": {},
   "source": [
    "### Nombre de noeuds et relations"
   ]
  },
  {
   "cell_type": "code",
   "execution_count": 41,
   "metadata": {},
   "outputs": [
    {
     "name": "stdout",
     "output_type": "stream",
     "text": [
      "--- About Nodes \n",
      "* Number of active entity  : 67187\n",
      "* Number of total entity  : 73332\n",
      "* % of active entity : 91.62\n",
      "* Number of country  : 17\n",
      "* Number of active  : 2\n",
      "\n",
      "--- About Relations \n",
      "* Number of relationship between Entities : 11259\n",
      "* Number of relationship between Entitie/Active : 73332\n",
      "* Number of relationship between Entitie/Country : 73332\n"
     ]
    }
   ],
   "source": [
    "VisualizeGraph(graph)"
   ]
  },
  {
   "cell_type": "markdown",
   "metadata": {},
   "source": [
    "### Nombre d'entités légales par pays par ordre croissant"
   ]
  },
  {
   "cell_type": "markdown",
   "metadata": {},
   "source": [
    "#### 1ère requête sans prise en compte du caractère active ou non de l'entité"
   ]
  },
  {
   "cell_type": "code",
   "execution_count": 38,
   "metadata": {},
   "outputs": [
    {
     "data": {
      "text/html": [
       "<div>\n",
       "<style scoped>\n",
       "    .dataframe tbody tr th:only-of-type {\n",
       "        vertical-align: middle;\n",
       "    }\n",
       "\n",
       "    .dataframe tbody tr th {\n",
       "        vertical-align: top;\n",
       "    }\n",
       "\n",
       "    .dataframe thead th {\n",
       "        text-align: right;\n",
       "    }\n",
       "</style>\n",
       "<table border=\"1\" class=\"dataframe\">\n",
       "  <thead>\n",
       "    <tr style=\"text-align: right;\">\n",
       "      <th></th>\n",
       "      <th>Country</th>\n",
       "      <th>Number</th>\n",
       "    </tr>\n",
       "  </thead>\n",
       "  <tbody>\n",
       "    <tr>\n",
       "      <th>0</th>\n",
       "      <td>FR</td>\n",
       "      <td>73267</td>\n",
       "    </tr>\n",
       "    <tr>\n",
       "      <th>1</th>\n",
       "      <td>LU</td>\n",
       "      <td>25</td>\n",
       "    </tr>\n",
       "    <tr>\n",
       "      <th>2</th>\n",
       "      <td>GB</td>\n",
       "      <td>16</td>\n",
       "    </tr>\n",
       "    <tr>\n",
       "      <th>3</th>\n",
       "      <td>DE</td>\n",
       "      <td>4</td>\n",
       "    </tr>\n",
       "    <tr>\n",
       "      <th>4</th>\n",
       "      <td>IT</td>\n",
       "      <td>4</td>\n",
       "    </tr>\n",
       "    <tr>\n",
       "      <th>5</th>\n",
       "      <td>PF</td>\n",
       "      <td>2</td>\n",
       "    </tr>\n",
       "    <tr>\n",
       "      <th>6</th>\n",
       "      <td>BE</td>\n",
       "      <td>2</td>\n",
       "    </tr>\n",
       "    <tr>\n",
       "      <th>7</th>\n",
       "      <td>NL</td>\n",
       "      <td>2</td>\n",
       "    </tr>\n",
       "    <tr>\n",
       "      <th>8</th>\n",
       "      <td>NC</td>\n",
       "      <td>2</td>\n",
       "    </tr>\n",
       "    <tr>\n",
       "      <th>9</th>\n",
       "      <td>IE</td>\n",
       "      <td>1</td>\n",
       "    </tr>\n",
       "    <tr>\n",
       "      <th>10</th>\n",
       "      <td>US</td>\n",
       "      <td>1</td>\n",
       "    </tr>\n",
       "    <tr>\n",
       "      <th>11</th>\n",
       "      <td>EG</td>\n",
       "      <td>1</td>\n",
       "    </tr>\n",
       "    <tr>\n",
       "      <th>12</th>\n",
       "      <td>DK</td>\n",
       "      <td>1</td>\n",
       "    </tr>\n",
       "    <tr>\n",
       "      <th>13</th>\n",
       "      <td>SE</td>\n",
       "      <td>1</td>\n",
       "    </tr>\n",
       "    <tr>\n",
       "      <th>14</th>\n",
       "      <td>CH</td>\n",
       "      <td>1</td>\n",
       "    </tr>\n",
       "    <tr>\n",
       "      <th>15</th>\n",
       "      <td>PL</td>\n",
       "      <td>1</td>\n",
       "    </tr>\n",
       "    <tr>\n",
       "      <th>16</th>\n",
       "      <td>NZ</td>\n",
       "      <td>1</td>\n",
       "    </tr>\n",
       "  </tbody>\n",
       "</table>\n",
       "</div>"
      ],
      "text/plain": [
       "   Country  Number\n",
       "0       FR   73267\n",
       "1       LU      25\n",
       "2       GB      16\n",
       "3       DE       4\n",
       "4       IT       4\n",
       "5       PF       2\n",
       "6       BE       2\n",
       "7       NL       2\n",
       "8       NC       2\n",
       "9       IE       1\n",
       "10      US       1\n",
       "11      EG       1\n",
       "12      DK       1\n",
       "13      SE       1\n",
       "14      CH       1\n",
       "15      PL       1\n",
       "16      NZ       1"
      ]
     },
     "execution_count": 38,
     "metadata": {},
     "output_type": "execute_result"
    }
   ],
   "source": [
    "EntityPerCountry(graph)"
   ]
  },
  {
   "cell_type": "markdown",
   "metadata": {},
   "source": [
    "#### 2ème requête avec prise en compte du caractère active ou non de la filiale"
   ]
  },
  {
   "cell_type": "code",
   "execution_count": 42,
   "metadata": {},
   "outputs": [
    {
     "data": {
      "text/html": [
       "<div>\n",
       "<style scoped>\n",
       "    .dataframe tbody tr th:only-of-type {\n",
       "        vertical-align: middle;\n",
       "    }\n",
       "\n",
       "    .dataframe tbody tr th {\n",
       "        vertical-align: top;\n",
       "    }\n",
       "\n",
       "    .dataframe thead th {\n",
       "        text-align: right;\n",
       "    }\n",
       "</style>\n",
       "<table border=\"1\" class=\"dataframe\">\n",
       "  <thead>\n",
       "    <tr style=\"text-align: right;\">\n",
       "      <th></th>\n",
       "      <th>Country</th>\n",
       "      <th>Number</th>\n",
       "    </tr>\n",
       "  </thead>\n",
       "  <tbody>\n",
       "    <tr>\n",
       "      <th>0</th>\n",
       "      <td>FR</td>\n",
       "      <td>67143</td>\n",
       "    </tr>\n",
       "    <tr>\n",
       "      <th>1</th>\n",
       "      <td>GB</td>\n",
       "      <td>13</td>\n",
       "    </tr>\n",
       "    <tr>\n",
       "      <th>2</th>\n",
       "      <td>LU</td>\n",
       "      <td>13</td>\n",
       "    </tr>\n",
       "    <tr>\n",
       "      <th>3</th>\n",
       "      <td>DE</td>\n",
       "      <td>3</td>\n",
       "    </tr>\n",
       "    <tr>\n",
       "      <th>4</th>\n",
       "      <td>NL</td>\n",
       "      <td>2</td>\n",
       "    </tr>\n",
       "    <tr>\n",
       "      <th>5</th>\n",
       "      <td>BE</td>\n",
       "      <td>2</td>\n",
       "    </tr>\n",
       "    <tr>\n",
       "      <th>6</th>\n",
       "      <td>PF</td>\n",
       "      <td>2</td>\n",
       "    </tr>\n",
       "    <tr>\n",
       "      <th>7</th>\n",
       "      <td>NC</td>\n",
       "      <td>2</td>\n",
       "    </tr>\n",
       "    <tr>\n",
       "      <th>8</th>\n",
       "      <td>CH</td>\n",
       "      <td>1</td>\n",
       "    </tr>\n",
       "    <tr>\n",
       "      <th>9</th>\n",
       "      <td>SE</td>\n",
       "      <td>1</td>\n",
       "    </tr>\n",
       "    <tr>\n",
       "      <th>10</th>\n",
       "      <td>DK</td>\n",
       "      <td>1</td>\n",
       "    </tr>\n",
       "    <tr>\n",
       "      <th>11</th>\n",
       "      <td>EG</td>\n",
       "      <td>1</td>\n",
       "    </tr>\n",
       "    <tr>\n",
       "      <th>12</th>\n",
       "      <td>US</td>\n",
       "      <td>1</td>\n",
       "    </tr>\n",
       "    <tr>\n",
       "      <th>13</th>\n",
       "      <td>IE</td>\n",
       "      <td>1</td>\n",
       "    </tr>\n",
       "    <tr>\n",
       "      <th>14</th>\n",
       "      <td>PL</td>\n",
       "      <td>1</td>\n",
       "    </tr>\n",
       "  </tbody>\n",
       "</table>\n",
       "</div>"
      ],
      "text/plain": [
       "   Country  Number\n",
       "0       FR   67143\n",
       "1       GB      13\n",
       "2       LU      13\n",
       "3       DE       3\n",
       "4       NL       2\n",
       "5       BE       2\n",
       "6       PF       2\n",
       "7       NC       2\n",
       "8       CH       1\n",
       "9       SE       1\n",
       "10      DK       1\n",
       "11      EG       1\n",
       "12      US       1\n",
       "13      IE       1\n",
       "14      PL       1"
      ]
     },
     "execution_count": 42,
     "metadata": {},
     "output_type": "execute_result"
    }
   ],
   "source": [
    "EntityPerCountryActive(graph)"
   ]
  },
  {
   "cell_type": "markdown",
   "metadata": {},
   "source": [
    "### Schema consolidation Société X"
   ]
  },
  {
   "cell_type": "code",
   "execution_count": null,
   "metadata": {},
   "outputs": [],
   "source": [
    "SchemaConsolidationWithActiveSubsidiary(graph, \"'AXA'\")\n",
    "#Code_LEI F5WCUMTUM4RKZ1MAIE39"
   ]
  },
  {
   "cell_type": "markdown",
   "metadata": {},
   "source": [
    "### Calcul de profondeur entre société mère et filiales"
   ]
  },
  {
   "cell_type": "code",
   "execution_count": null,
   "metadata": {},
   "outputs": [],
   "source": [
    "DefineHolding(graph)\n",
    "CalculateHoldingSubsidiaryPerCountry(graph, \"'FR'\")"
   ]
  },
  {
   "cell_type": "markdown",
   "metadata": {},
   "source": [
    "### Identification de l'évasion fiscale potentielle"
   ]
  },
  {
   "cell_type": "code",
   "execution_count": null,
   "metadata": {},
   "outputs": [],
   "source": [
    "listCountrySuspect = \"['LU', 'BS']\" #permet d'identifier le luxembourg et Les iles Bahamas\n",
    "IdentifySuspectSubsidiaries(graph,\"'FR'\", listCountrySuspect )"
   ]
  },
  {
   "cell_type": "markdown",
   "metadata": {},
   "source": [
    "## Destruction du graph"
   ]
  },
  {
   "cell_type": "code",
   "execution_count": null,
   "metadata": {},
   "outputs": [],
   "source": [
    "Armageddon(graph)\n",
    "DropConstraintAndIndex(graph)"
   ]
  },
  {
   "cell_type": "markdown",
   "metadata": {},
   "source": [
    "# Conclusion"
   ]
  },
  {
   "cell_type": "markdown",
   "metadata": {},
   "source": [
    "Dans le cadre de ce projet, nous avons pu :\n",
    "* manipuler une base de données Neo4j de sa création, avec son langage spécifique de requêtes, jusqu'à sa suppression\n",
    "* voir la force par rapport à une base de données relationnelles pour identifier les relations d'amis / d'amis..., qui est un vrai point fort de Neo4j \n",
    "* améliorer nos compétences en Python pour réaliser les transformations de données et appeler directement Neo4j/Cypher via py2neo. \n",
    "\n",
    "Les difficultés auxquelles nous avons été confrontées :\n",
    "* la difficulté lorsque Cypher ne renvoie rien pour identifier l'erreur dans les requêtes\n",
    "* le coût d'un langage qui n'est pas évident par exemple dans la prise en comptes des dates dans les propriétés et de la librairie py2neo qui s'est avérée plus simple par rapport à l'API Rest\n"
   ]
  }
 ],
 "metadata": {
  "kernelspec": {
   "display_name": "Python 3",
   "language": "python",
   "name": "python3"
  },
  "language_info": {
   "codemirror_mode": {
    "name": "ipython",
    "version": 3
   },
   "file_extension": ".py",
   "mimetype": "text/x-python",
   "name": "python",
   "nbconvert_exporter": "python",
   "pygments_lexer": "ipython3",
   "version": "3.7.3"
  }
 },
 "nbformat": 4,
 "nbformat_minor": 2
}
