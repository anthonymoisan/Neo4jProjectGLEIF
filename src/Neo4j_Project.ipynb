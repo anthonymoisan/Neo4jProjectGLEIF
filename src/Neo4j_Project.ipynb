{
 "cells": [
  {
   "cell_type": "markdown",
   "metadata": {},
   "source": [
    "# Préambule\n",
    "\n",
    "Ce notebook correspond à la base de données Neo4j réalisée dans le cadre du master EBAM 2019 - 2020 par Anthony Moisan et Léonard Péan"
   ]
  },
  {
   "cell_type": "markdown",
   "metadata": {},
   "source": [
    "Prérequis, il est nécessaire :\n",
    "* de lancer en local un serveur Neo4j \n",
    "* de mettre les fichiers csv dans le fichier d'import de la base de données via Manage -> Open Folders\n",
    "* d'installer le plugin APOC via Manage -> Plugins -> APOC"
   ]
  },
  {
   "cell_type": "markdown",
   "metadata": {},
   "source": [
    "# Small Example\n",
    "\n",
    "Petit jeu de données créés à la main pour voir la pertinence des requêtes. Niveau1_Small et Niveau2_Small"
   ]
  },
  {
   "cell_type": "markdown",
   "metadata": {},
   "source": [
    "## Packages\n",
    "\n",
    "Installation des packages nécessaires à l'execution"
   ]
  },
  {
   "cell_type": "code",
   "execution_count": null,
   "metadata": {},
   "outputs": [],
   "source": [
    "!pip install py2neo\n",
    "import pandas as pd"
   ]
  },
  {
   "cell_type": "markdown",
   "metadata": {},
   "source": [
    "## Connexion à la base de données"
   ]
  },
  {
   "cell_type": "code",
   "execution_count": null,
   "metadata": {},
   "outputs": [],
   "source": [
    "# les trois premiers éléments sont à configurer en fonction de la création en local de la base de données Neo4j\n",
    "from py2neo import Graph\n",
    "myUri = \"http://localhost:7474\"\n",
    "myUser = \"neo4j\"\n",
    "myPassword = \"mmas3783\"\n",
    "graph = Graph(myUri, username=myUser, password=myPassword)"
   ]
  },
  {
   "cell_type": "markdown",
   "metadata": {},
   "source": [
    "## Ensemble des procédures pour créer le graphe ou le détruire"
   ]
  },
  {
   "cell_type": "code",
   "execution_count": null,
   "metadata": {},
   "outputs": [],
   "source": [
    "#Permet de mettre les contraintes d'intégrité et index\n",
    "def DefineConstraintAndIndex(db):\n",
    "    queryInsertConstraintEntityCodeLEI = \"CREATE CONSTRAINT ON (e:Entity) ASSERT e.code_LEI IS UNIQUE;\"\n",
    "    db.run(queryInsertConstraintEntityCodeLEI)\n",
    "    queryInsertIndexCountryName = \"CREATE INDEX ON :Country(name);\"\n",
    "    db.run(queryInsertIndexCountryName)\n",
    "    queryInsertIndexEntiteName = \"CREATE INDEX ON :Entity(name);\"\n",
    "    db.run(queryInsertIndexEntiteName)\n",
    "    queryDropIndexActiveName = \"CREATE INDEX ON :Active(name);\"\n",
    "    db.run(queryDropIndexActiveName)\n"
   ]
  },
  {
   "cell_type": "code",
   "execution_count": null,
   "metadata": {},
   "outputs": [],
   "source": [
    "#Permet de définir l'import de Niveau 1\n",
    "def DefineImportNiveau1(db,namefile):\n",
    "    queryLevel1 =\"USING PERIODIC COMMIT 500 \" \\\n",
    "    \"LOAD CSV WITH HEADERS FROM 'file:///\"+namefile+\".csv' \" \\\n",
    "    \"AS ligne FIELDTERMINATOR ';' \" \\\n",
    "    \"MERGE (e:Entity {code_LEI: ligne.Code_LEI}) \" \\\n",
    "    \"SET e.name = ligne.Legal_Name \" \\\n",
    "    \"SET e.last_update = apoc.date.format(apoc.date.parse(ligne.Last_Update_Date, 'ms', 'dd/MM/yyyy')) \" \\\n",
    "    \"MERGE (act:Active {name:ligne.Status_Actif}) \" \\\n",
    "    \"MERGE (country:Country {name: ligne.Country_Code}) \" \\\n",
    "    \"MERGE (e)-[:ACTIVE]-(act) \" \\\n",
    "    \"MERGE (e)-[:REGISTERED]-(country)\" \n",
    "    db.run(queryLevel1)"
   ]
  },
  {
   "cell_type": "code",
   "execution_count": null,
   "metadata": {},
   "outputs": [],
   "source": [
    "#Permet de définir l'import de Niveau 2\n",
    "def DefineImportNiveau2(db,namefile):\n",
    "    queryLevel2 =\"USING PERIODIC COMMIT 500 \" \\\n",
    "    \"LOAD CSV WITH HEADERS FROM 'file:///\"+namefile+\".csv' \" \\\n",
    "    \"AS ligne FIELDTERMINATOR ';' \" \\\n",
    "    \"MATCH (startNode:Entity{ code_LEI: ligne.Start_Node}),(endNode:Entity { code_LEI: ligne.End_Node}) \" \\\n",
    "    \"MERGE (startNode)-[:RELATIONSHIP { role: ligne.Relation_ShipeType }]->(endNode)\"\n",
    "    db.run(queryLevel2)"
   ]
  },
  {
   "cell_type": "code",
   "execution_count": null,
   "metadata": {},
   "outputs": [],
   "source": [
    "#1) On créer les contraintes et index\n",
    "DefineConstraintAndIndex(graph)\n",
    "#2) On réalise l'import de niveau 1 pour initialiser une partie du graphe\n",
    "DefineImportNiveau1(graph,'Niveau1_Small')\n",
    "#3) On réalise l'import de niveau 2 pour mettre les relations entre les entités juridiques\n",
    "DefineImportNiveau2(graph,'Niveau2_Small')"
   ]
  },
  {
   "cell_type": "code",
   "execution_count": null,
   "metadata": {},
   "outputs": [],
   "source": [
    "#Permet de supprimer l'ensemble des noeuds et des relations \n",
    "def Armageddon(db):\n",
    "    queryDeleteNodesAndRelations = \"MATCH (n) OPTIONAL MATCH (n)-[r]-() DELETE n,r\"\n",
    "    db.run(queryDeleteNodesAndRelations)    "
   ]
  },
  {
   "cell_type": "code",
   "execution_count": null,
   "metadata": {},
   "outputs": [],
   "source": [
    "#Permet de supprimer les contraintes d'intégrité et les index\n",
    "def DropConstraintAndIndex(db):\n",
    "    queryDropIndexCountryName = \"DROP INDEX ON :Country(name);\"\n",
    "    db.run(queryDropIndexCountryName)\n",
    "    queryDropIndexEntiteName = \"DROP INDEX ON :Entity(name);\"\n",
    "    db.run(queryDropIndexEntiteName)\n",
    "    queryDropIndexActiveName = \"DROP INDEX ON :Active(name);\"\n",
    "    db.run(queryDropIndexActiveName)\n",
    "    queryDropConstraintEntityCodeLEI = \"DROP CONSTRAINT ON (e:Entity) ASSERT e.code_LEI IS UNIQUE;\"\n",
    "    db.run(queryDropConstraintEntityCodeLEI)"
   ]
  },
  {
   "cell_type": "markdown",
   "metadata": {},
   "source": [
    "## Ensemble des requêtes"
   ]
  },
  {
   "cell_type": "markdown",
   "metadata": {},
   "source": [
    "### Nombre de noeuds actifs"
   ]
  },
  {
   "cell_type": "code",
   "execution_count": null,
   "metadata": {},
   "outputs": [],
   "source": [
    "def VisualizeNodes(db) :\n",
    "    qCount = \"MATCH (e:Entity)-[:ACTIVE]-(act) \" \\\n",
    "            \"WHERE act.name = 'ACTIVE' \" \\\n",
    "            \"RETURN count(e) \"\n",
    "    numberOfActiveNodes = db.run(qCount).evaluate()\n",
    "    qCountTotal = \"MATCH (e:Entity)-[:ACTIVE]-(act) \" \\\n",
    "                \"RETURN count(e) \"\n",
    "    numberOfNodes = db.run(qCountTotal).evaluate()\n",
    "    print(\"Number of active nodes  : \" + str(numberOfActiveNodes))\n",
    "    print(\"Number of total nodes  : \" + str(numberOfNodes))\n",
    "    print(\"% of active nodes : \" + str(round(numberOfActiveNodes/numberOfNodes*100,2)))"
   ]
  },
  {
   "cell_type": "code",
   "execution_count": null,
   "metadata": {},
   "outputs": [],
   "source": [
    "VisualizeNodes(graph)"
   ]
  },
  {
   "cell_type": "markdown",
   "metadata": {},
   "source": [
    "### Nombre d'entités légales par pays par ordre croissant"
   ]
  },
  {
   "cell_type": "code",
   "execution_count": null,
   "metadata": {},
   "outputs": [],
   "source": [
    "def EntityPerCountry(db) :\n",
    "    query = \"MATCH (c:Country)-[:REGISTERED]-(e:Entity) \" \\\n",
    "    \"RETURN distinct(c.name) as Country, count(e) as Number ORDER BY Number DESC\"\n",
    "    return pd.DataFrame(db.run(query).data())"
   ]
  },
  {
   "cell_type": "code",
   "execution_count": null,
   "metadata": {},
   "outputs": [],
   "source": [
    "EntityPerCountry(graph)"
   ]
  },
  {
   "cell_type": "markdown",
   "metadata": {},
   "source": [
    "Cela correspond aux nationalités des filiales fournies dans le cas jouet"
   ]
  },
  {
   "cell_type": "markdown",
   "metadata": {},
   "source": [
    "### Schema consolidation AXA"
   ]
  },
  {
   "cell_type": "markdown",
   "metadata": {},
   "source": [
    "#### 1ère requête sans prise en compte du caractère active ou non de la filiale\n",
    "\n",
    "On cherche à partir d'une société à avoir toutes les filiales qui en dépendent"
   ]
  },
  {
   "cell_type": "code",
   "execution_count": null,
   "metadata": {},
   "outputs": [],
   "source": [
    "def SchemaConsolidationAxa(db,society) :\n",
    "    query = \"MATCH (e:Entity {name:\"+society+\"}), \" \\\n",
    "    \"path = (e)-[:RELATIONSHIP*]-(subsdiary:Entity) \" \\\n",
    "    \"return extract(x IN nodes(path) | x.name) as Nodes,length(path) as Depth ORDER BY Depth ASC\"\n",
    "    return pd.DataFrame(db.run(query).data())\n"
   ]
  },
  {
   "cell_type": "code",
   "execution_count": null,
   "metadata": {},
   "outputs": [],
   "source": [
    "SchemaConsolidationAxa(graph, \"'AXA'\")"
   ]
  },
  {
   "cell_type": "markdown",
   "metadata": {},
   "source": [
    "Schéma cohérent avec Axa en prenant en compte dans le cas présent les filiales inactives"
   ]
  },
  {
   "cell_type": "markdown",
   "metadata": {},
   "source": [
    "#### 2ème requête en prenant le caractère active des filiales"
   ]
  },
  {
   "cell_type": "code",
   "execution_count": null,
   "metadata": {},
   "outputs": [],
   "source": [
    "def SchemaConsolidationWithActiveSubsidiary(db, society) :\n",
    "    query = \"MATCH (e:Entity {name:\" + society + \"}), \" \\\n",
    "    \"path = (e)-[:RELATIONSHIP*]-(subsidiary:Entity)-[:ACTIVE]-(act {name:'ACTIVE'}) \" \\\n",
    "    \"RETURN extract(x IN nodes(path) WHERE x.name <> 'ACTIVE' | x.name) as Nodes,length(path) as Depth ORDER BY Depth ASC\"\n",
    "    return pd.DataFrame(db.run(query).data())"
   ]
  },
  {
   "cell_type": "code",
   "execution_count": null,
   "metadata": {},
   "outputs": [],
   "source": [
    "SchemaConsolidationWithActiveSubsidiary(graph, \"'AXA'\")"
   ]
  },
  {
   "cell_type": "markdown",
   "metadata": {},
   "source": [
    "Schéma cohérent avec les filiales actives d'Axa"
   ]
  },
  {
   "cell_type": "markdown",
   "metadata": {},
   "source": [
    "### Calcul de profondeur entre société mère et filiales"
   ]
  },
  {
   "cell_type": "code",
   "execution_count": null,
   "metadata": {},
   "outputs": [],
   "source": [
    "#Permet de savoir si une société est la société mère (elle n'a pas de relations où elle est le noeud de sortie dans une relation de filiation avec d'autres entités juridiques)\n",
    "#On ajoute un champ au noeud entité IsParent\n",
    "def DefineHolding(db) :\n",
    "    queryIsParentFalse = \"MATCH (e:Entity)<-[RELATIONSHIP]-() \" \\\n",
    "    \"SET e.isParent = FALSE \" \\\n",
    "    \"RETURN e\"\n",
    "    db.run(queryIsParentFalse)\n",
    "    \n",
    "    queryIsParentTrue = \"MATCH (e:Entity) \" \\\n",
    "    \"WHERE not exists(e.isParent) \" \\\n",
    "    \"SET e.isParent = TRUE \" \\\n",
    "    \"return e\"\n",
    "    db.run(queryIsParentTrue)"
   ]
  },
  {
   "cell_type": "code",
   "execution_count": null,
   "metadata": {},
   "outputs": [],
   "source": [
    "DefineHolding(graph)"
   ]
  },
  {
   "cell_type": "code",
   "execution_count": null,
   "metadata": {},
   "outputs": [],
   "source": [
    "#Permet de calculer la profondeur entre les sociétés mères d'un pays et ses filiales\n",
    "def CalculateHoldingSubsidiaryPerCountry(db, nameCountry):\n",
    "    query = \"MATCH (c:Country {name:\"+nameCountry+\"})-[:REGISTERED]-(e:Entity {isParent:TRUE})-[:ACTIVE]-(act{name:'ACTIVE'}), \" \\\n",
    "    \"path = (e)-[:RELATIONSHIP*]-(subsidiary:Entity)-[:ACTIVE]-(act{name:'ACTIVE'}) \" \\\n",
    "    \"return e.name as Holding, subsidiary.name as Subsidiary, length(path) as Depth ORDER BY Depth DESC \"\n",
    "    return pd.DataFrame(db.run(query).data())"
   ]
  },
  {
   "cell_type": "code",
   "execution_count": null,
   "metadata": {},
   "outputs": [],
   "source": [
    "CalculateHoldingSubsidiaryPerCountry(graph, \"'FR'\")"
   ]
  },
  {
   "cell_type": "markdown",
   "metadata": {},
   "source": [
    "Les résultats correspondent aux filiales uniquement actives d'Axa et de SMA"
   ]
  },
  {
   "cell_type": "markdown",
   "metadata": {},
   "source": [
    "### Identification de l'évasion fiscale potentielle"
   ]
  },
  {
   "cell_type": "code",
   "execution_count": null,
   "metadata": {},
   "outputs": [],
   "source": [
    "#Permet de voir les sociétés mères d'un pays qui ont des filiales actives dans des paradis fiscaux (listCountrySuspect)\n",
    "def IdentifySuspectSubsidiaries(db,nameCountry, listCountrySuspect):\n",
    "    query = \"MATCH (c:Country {name:\"+nameCountry+\"})-[:REGISTERED]-(e:Entity {isParent:TRUE})-[:ACTIVE]-(act{name:'ACTIVE'}), \" \\\n",
    "    \"path = (e)-[:RELATIONSHIP*]-(subsidiary:Entity)-[:REGISTERED]-(cSubsidiary:Country) WHERE cSubsidiary.name in \"+listCountrySuspect+ \"AND (subsidiary:Entity)-[:ACTIVE]-(act{name:'ACTIVE'})\" \\\n",
    "    \"return e.name as Entity, subsidiary.name as Subsidiary, length(path) as Depth\"\n",
    "    return pd.DataFrame(db.run(query).data())"
   ]
  },
  {
   "cell_type": "code",
   "execution_count": null,
   "metadata": {},
   "outputs": [],
   "source": [
    "listCountrySuspect = \"['LU', 'BS']\" #permet d'identifier le luxembourg et Les iles Bahamas\n",
    "IdentifySuspectSubsidiaries(graph,\"'FR'\", listCountrySuspect )"
   ]
  },
  {
   "cell_type": "markdown",
   "metadata": {},
   "source": [
    "Le résultat ne fait pas apparaître la filiale non active dans les Bahamas associée à la société SMA "
   ]
  },
  {
   "cell_type": "markdown",
   "metadata": {},
   "source": [
    "## Destruction du graph"
   ]
  },
  {
   "cell_type": "code",
   "execution_count": null,
   "metadata": {},
   "outputs": [],
   "source": [
    "Armageddon(graph)\n",
    "DropConstraintAndIndex(graph)"
   ]
  },
  {
   "cell_type": "markdown",
   "metadata": {},
   "source": [
    "# Jeu de données réelles\n",
    "Les jeux de données réelles sont basées sur la transformation XML des données accessibles en Open Data sur le site https://www.gleif.org via un CSV. Le code Python permet de faire la conversion se trouve aussi dans un autre projet Python dans SRC"
   ]
  },
  {
   "cell_type": "markdown",
   "metadata": {},
   "source": [
    "## Creation du graph"
   ]
  },
  {
   "cell_type": "code",
   "execution_count": null,
   "metadata": {},
   "outputs": [],
   "source": [
    "#1) On créer les contraintes et index\n",
    "DefineConstraintAndIndex(graph)\n",
    "#2) On réalise l'import de niveau 1 pour initialiser une partie du graphe\n",
    "DefineImportNiveau1(graph,'Niveau1_Real')\n",
    "#3) On réalise l'import de niveau 2 pour mettre les relations entre les entités juridiques\n",
    "DefineImportNiveau2(graph,'Niveau2_Real')"
   ]
  },
  {
   "cell_type": "markdown",
   "metadata": {},
   "source": [
    "### Nombre de noeuds actifs"
   ]
  },
  {
   "cell_type": "code",
   "execution_count": null,
   "metadata": {},
   "outputs": [],
   "source": [
    "VisualizeNodes(graph)"
   ]
  },
  {
   "cell_type": "markdown",
   "metadata": {},
   "source": [
    "### Nombre d'entités légales par pays par ordre croissant"
   ]
  },
  {
   "cell_type": "code",
   "execution_count": null,
   "metadata": {},
   "outputs": [],
   "source": [
    "EntityPerCountry(graph)"
   ]
  },
  {
   "cell_type": "markdown",
   "metadata": {},
   "source": [
    "### Schema consolidation Société X"
   ]
  },
  {
   "cell_type": "code",
   "execution_count": null,
   "metadata": {},
   "outputs": [],
   "source": [
    "SchemaConsolidationWithActiveSubsidiary(graph, \"'X'\")"
   ]
  },
  {
   "cell_type": "markdown",
   "metadata": {},
   "source": [
    "### Calcul de profondeur entre société mère et filiales"
   ]
  },
  {
   "cell_type": "code",
   "execution_count": null,
   "metadata": {},
   "outputs": [],
   "source": [
    "DefineHolding(graph)\n",
    "CalculateHoldingSubsidiaryPerCountry(graph, \"'FR'\")"
   ]
  },
  {
   "cell_type": "markdown",
   "metadata": {},
   "source": [
    "### Identification de l'évasion fiscale potentielle"
   ]
  },
  {
   "cell_type": "code",
   "execution_count": null,
   "metadata": {},
   "outputs": [],
   "source": [
    "listCountrySuspect = \"['LU', 'BS']\" #permet d'identifier le luxembourg et Les iles Bahamas\n",
    "IdentifySuspectSubsidiaries(graph,\"'FR'\", listCountrySuspect )"
   ]
  },
  {
   "cell_type": "markdown",
   "metadata": {},
   "source": [
    "## Destruction du graph"
   ]
  },
  {
   "cell_type": "code",
   "execution_count": null,
   "metadata": {},
   "outputs": [],
   "source": [
    "Armageddon(graph)\n",
    "DropConstraintAndIndex(graph)"
   ]
  },
  {
   "cell_type": "markdown",
   "metadata": {},
   "source": [
    "# Conclusion"
   ]
  },
  {
   "cell_type": "markdown",
   "metadata": {},
   "source": [
    "Dans le cadre de ce projet, nous avons pu :\n",
    "* manipuler une base de données Neo4j de sa création, avec son langage spécifique de requêtes, jusqu'à sa suppression\n",
    "* voir la force d'une base de données relationnelles pour identifier les relations d'amis / d'amis..., qui est un vrai point fort de Neo4j par rapport au bdd relationnelle\n",
    "* améliorer nos compétences en Python pour réaliser les transformations de données et appeler directement Neo4j/Cypher via py2neo. \n",
    "\n",
    "Les difficultés auxquelles nous avons été confrontées :\n",
    "* la difficulté lorsque Cypher ne renvoie rien pour identifier l'erreur dans les requêtes\n",
    "* le coût d'un langage qui n'est pas évident par exemple dans la prise en comptes des dates dans les propriétés et de la librairie py2neo qui s'est avérée plus simple par rapport à l'API Rest\n"
   ]
  }
 ],
 "metadata": {
  "kernelspec": {
   "display_name": "Python 3",
   "language": "python",
   "name": "python3"
  },
  "language_info": {
   "codemirror_mode": {
    "name": "ipython",
    "version": 3
   },
   "file_extension": ".py",
   "mimetype": "text/x-python",
   "name": "python",
   "nbconvert_exporter": "python",
   "pygments_lexer": "ipython3",
   "version": "3.7.3"
  }
 },
 "nbformat": 4,
 "nbformat_minor": 2
}
